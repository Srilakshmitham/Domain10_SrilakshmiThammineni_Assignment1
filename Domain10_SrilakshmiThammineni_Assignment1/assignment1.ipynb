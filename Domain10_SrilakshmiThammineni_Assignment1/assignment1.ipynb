{
 "cells": [
  {
   "cell_type": "code",
   "execution_count": 1,
   "id": "0595c3e0-2feb-4d5e-8a43-de22c870cb27",
   "metadata": {},
   "outputs": [
    {
     "name": "stdin",
     "output_type": "stream",
     "text": [
      "Enter first number:  1\n",
      "Enter second number:  2\n"
     ]
    },
    {
     "name": "stdout",
     "output_type": "stream",
     "text": [
      "Sum: 3\n"
     ]
    }
   ],
   "source": [
    "# =====================================================ASSIGNMENT_1========================================================================\n",
    "# 1. Sum of Two Numbers\n",
    "# =====================================================\n",
    "# Program to calculate the sum of two integers\n",
    "\n",
    "num1 = int(input(\"Enter first number: \"))\n",
    "num2 = int(input(\"Enter second number: \"))\n",
    "sum_result = num1 + num2\n",
    "print(\"Sum:\", sum_result)"
   ]
  },
  {
   "cell_type": "code",
   "execution_count": 10,
   "id": "781efe96-9778-41fb-b550-16d4d8864a08",
   "metadata": {},
   "outputs": [
    {
     "name": "stdin",
     "output_type": "stream",
     "text": [
      "Enter a number:  4\n"
     ]
    },
    {
     "name": "stdout",
     "output_type": "stream",
     "text": [
      "Even\n"
     ]
    }
   ],
   "source": [
    "# 2. Odd or Even Checker\n",
    "# =====================================================\n",
    "# Program to determine whether a number is odd or even\n",
    "\n",
    "num = int(input(\"Enter a number: \"))\n",
    "if num % 2 == 0:\n",
    "    print(\"Even\")\n",
    "else:\n",
    "    print(\"Odd\")"
   ]
  },
  {
   "cell_type": "code",
   "execution_count": 11,
   "id": "34332ea6-862c-4b0d-b62b-e2c422883f80",
   "metadata": {},
   "outputs": [
    {
     "name": "stdin",
     "output_type": "stream",
     "text": [
      "Enter a number for factorial calculation:  44\n"
     ]
    },
    {
     "name": "stdout",
     "output_type": "stream",
     "text": [
      "Factorial of 44 is: 2658271574788448768043625811014615890319638528000000000\n"
     ]
    }
   ],
   "source": [
    "# 3. Factorial Calculation\n",
    "# =====================================================\n",
    "# Program to calculate factorial of a number\n",
    "\n",
    "n = int(input(\"Enter a number for factorial calculation: \"))\n",
    "factorial = 1\n",
    "for i in range(1, n + 1):\n",
    "    factorial *= i\n",
    "print(f\"Factorial of {n} is:\", factorial)"
   ]
  },
  {
   "cell_type": "code",
   "execution_count": 12,
   "id": "d921d49d-9b57-458f-aaa2-4889f24e1603",
   "metadata": {},
   "outputs": [
    {
     "name": "stdin",
     "output_type": "stream",
     "text": [
      "Enter number of Fibonacci terms:  4\n"
     ]
    },
    {
     "name": "stdout",
     "output_type": "stream",
     "text": [
      "Fibonacci sequence: [0, 1, 1, 2]\n"
     ]
    }
   ],
   "source": [
    "# 4. Fibonacci Sequence Generator\n",
    "# =====================================================\n",
    "# Program to generate first n Fibonacci numbers\n",
    "\n",
    "n_terms = int(input(\"Enter number of Fibonacci terms: \"))\n",
    "a, b = 0, 1\n",
    "fibonacci_sequence = []\n",
    "for _ in range(n_terms):\n",
    "    fibonacci_sequence.append(a)\n",
    "    a, b = b, a + b\n",
    "print(\"Fibonacci sequence:\", fibonacci_sequence)"
   ]
  },
  {
   "cell_type": "code",
   "execution_count": 13,
   "id": "82a8dc21-749c-4716-8667-fd6c085e87d3",
   "metadata": {},
   "outputs": [
    {
     "name": "stdin",
     "output_type": "stream",
     "text": [
      "Enter a string to reverse:  sdfvb \n"
     ]
    },
    {
     "name": "stdout",
     "output_type": "stream",
     "text": [
      "Reversed string:  bvfds\n"
     ]
    }
   ],
   "source": [
    "# 5. Reverse a String\n",
    "# =====================================================\n",
    "# Program to reverse a string\n",
    "\n",
    "text = input(\"Enter a string to reverse: \")\n",
    "reversed_text = text[::-1]\n",
    "print(\"Reversed string:\", reversed_text)"
   ]
  },
  {
   "cell_type": "code",
   "execution_count": 14,
   "id": "ffdc9ae6-a1e8-43c0-ab93-a6b39238a2ba",
   "metadata": {},
   "outputs": [
    {
     "name": "stdin",
     "output_type": "stream",
     "text": [
      "Enter a string to check palindrome:  tttttttttttt\n"
     ]
    },
    {
     "name": "stdout",
     "output_type": "stream",
     "text": [
      "Palindrome: True\n"
     ]
    }
   ],
   "source": [
    "# 6. Palindrome Checker\n",
    "# =====================================================\n",
    "# Program to check if a string is a palindrome\n",
    "\n",
    "text = input(\"Enter a string to check palindrome: \")\n",
    "is_palindrome = text == text[::-1]\n",
    "print(\"Palindrome:\", is_palindrome)\n"
   ]
  },
  {
   "cell_type": "code",
   "execution_count": 15,
   "id": "00fecc78-d26b-4b2b-a13c-7748b399d01b",
   "metadata": {},
   "outputs": [
    {
     "name": "stdin",
     "output_type": "stream",
     "text": [
      "Enter a year to check:  2000\n"
     ]
    },
    {
     "name": "stdout",
     "output_type": "stream",
     "text": [
      "Leap year: True\n"
     ]
    }
   ],
   "source": [
    "# 7. Leap Year Checker\n",
    "# =====================================================\n",
    "# Program to determine if a year is a leap year\n",
    "\n",
    "year = int(input(\"Enter a year to check: \"))\n",
    "if (year % 4 == 0 and year % 100 != 0) or (year % 400 == 0):\n",
    "    print(\"Leap year:\", True)\n",
    "else:\n",
    "    print(\"Leap year:\", False)\n",
    "    "
   ]
  },
  {
   "cell_type": "code",
   "execution_count": 16,
   "id": "49b5b7bf-20b7-467e-984c-76f149b794c6",
   "metadata": {},
   "outputs": [
    {
     "name": "stdin",
     "output_type": "stream",
     "text": [
      "Enter a number to check Armstrong:  153\n"
     ]
    },
    {
     "name": "stdout",
     "output_type": "stream",
     "text": [
      "Armstrong number: True\n"
     ]
    }
   ],
   "source": [
    "# 8. Armstrong Number Checker\n",
    "num = int(input(\"Enter a number to check Armstrong: \"))\n",
    "digits = str(num)\n",
    "power = len(digits)\n",
    "total = sum(int(d)**power for d in digits)\n",
    "print(\"Armstrong number:\", num == total)"
   ]
  },
  {
   "cell_type": "code",
   "execution_count": 17,
   "id": "7a01b9e2-3abc-4f58-8348-f2f87b9f0b07",
   "metadata": {},
   "outputs": [
    {
     "name": "stdin",
     "output_type": "stream",
     "text": [
      "Enter a message to encrypt:  hello\n",
      "Enter encryption key (integer):  7\n"
     ]
    },
    {
     "name": "stdout",
     "output_type": "stream",
     "text": [
      "Encrypted Message: olssv\n",
      "Decrypted Message: hello\n"
     ]
    }
   ],
   "source": [
    "# 9. Custom Encryption-Decryption System (Caesar Cipher)\n",
    "# =====================================================\n",
    "# Program to encrypt and decrypt a message using a Caesar cipher\n",
    "\n",
    "def encrypt(text, key):\n",
    "    result = \"\"\n",
    "    for char in text:\n",
    "        if char.isalpha():\n",
    "            shift = key % 26\n",
    "            if char.isupper():\n",
    "                result += chr((ord(char) - ord('A') + shift) % 26 + ord('A'))\n",
    "            else:\n",
    "                result += chr((ord(char) - ord('a') + shift) % 26 + ord('a'))\n",
    "        else:\n",
    "            result += char\n",
    "    return result\n",
    "\n",
    "def decrypt(cipher_text, key):\n",
    "    return encrypt(cipher_text, -key)\n",
    "\n",
    "message = input(\"Enter a message to encrypt: \")\n",
    "key = int(input(\"Enter encryption key (integer): \"))\n",
    "encrypted_message = encrypt(message, key)\n",
    "print(\"Encrypted Message:\", encrypted_message)\n",
    "decrypted_message = decrypt(encrypted_message, key)\n",
    "print(\"Decrypted Message:\", decrypted_message)\n"
   ]
  }
 ],
 "metadata": {
  "kernelspec": {
   "display_name": "Python 3 (ipykernel)",
   "language": "python",
   "name": "python3"
  },
  "language_info": {
   "codemirror_mode": {
    "name": "ipython",
    "version": 3
   },
   "file_extension": ".py",
   "mimetype": "text/x-python",
   "name": "python",
   "nbconvert_exporter": "python",
   "pygments_lexer": "ipython3",
   "version": "3.11.3"
  }
 },
 "nbformat": 4,
 "nbformat_minor": 5
}
